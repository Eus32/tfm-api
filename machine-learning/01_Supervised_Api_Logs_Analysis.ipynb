{
 "cells": [
  {
   "cell_type": "markdown",
   "id": "c2a6c0c2",
   "metadata": {},
   "source": [
    "# Detector de ataques a API REST con Random Forest + GridSearchCV\n",
    "\n",
    "Este cuaderno entrena y evalúa un modelo **Random Forest** y **XGBoost** para clasificar peticiones como **normales** o **ataques** a partir de un CSV generado a partir de peticiones a una API rest (`api_logs_ml_ready.csv`)."
   ]
  },
  {
   "cell_type": "code",
   "execution_count": 18,
   "id": "1c11b151",
   "metadata": {},
   "outputs": [
    {
     "name": "stdout",
     "output_type": "stream",
     "text": [
      "Shape: (3598, 16)\n"
     ]
    },
    {
     "data": {
      "text/html": [
       "<div>\n",
       "<style scoped>\n",
       "    .dataframe tbody tr th:only-of-type {\n",
       "        vertical-align: middle;\n",
       "    }\n",
       "\n",
       "    .dataframe tbody tr th {\n",
       "        vertical-align: top;\n",
       "    }\n",
       "\n",
       "    .dataframe thead th {\n",
       "        text-align: right;\n",
       "    }\n",
       "</style>\n",
       "<table border=\"1\" class=\"dataframe\">\n",
       "  <thead>\n",
       "    <tr style=\"text-align: right;\">\n",
       "      <th></th>\n",
       "      <th>timestamp</th>\n",
       "      <th>http_method</th>\n",
       "      <th>endpoint</th>\n",
       "      <th>query_params_count</th>\n",
       "      <th>user_agent</th>\n",
       "      <th>authorization_present</th>\n",
       "      <th>ip_hash</th>\n",
       "      <th>content_length_bytes</th>\n",
       "      <th>num_fields</th>\n",
       "      <th>avg_field_length</th>\n",
       "      <th>failed_auth_attempts_last_10min</th>\n",
       "      <th>suspicious_patterns_detected</th>\n",
       "      <th>statusCode</th>\n",
       "      <th>duration_ms</th>\n",
       "      <th>responseSize</th>\n",
       "      <th>label_attack</th>\n",
       "    </tr>\n",
       "  </thead>\n",
       "  <tbody>\n",
       "    <tr>\n",
       "      <th>0</th>\n",
       "      <td>2025-09-03T06:23:33.316Z</td>\n",
       "      <td>POST</td>\n",
       "      <td>/api/v1/book</td>\n",
       "      <td>0</td>\n",
       "      <td>python-requests/2.32.5</td>\n",
       "      <td>True</td>\n",
       "      <td>ddf72b6676cb429c9adf5335634fdb407bf3319e34499d...</td>\n",
       "      <td>81</td>\n",
       "      <td>3</td>\n",
       "      <td>12.333333</td>\n",
       "      <td>1</td>\n",
       "      <td>authorization_header_present,suspicious_quotes...</td>\n",
       "      <td>201</td>\n",
       "      <td>28.06</td>\n",
       "      <td>217</td>\n",
       "      <td>0</td>\n",
       "    </tr>\n",
       "    <tr>\n",
       "      <th>1</th>\n",
       "      <td>2025-09-03T06:23:33.354Z</td>\n",
       "      <td>GET</td>\n",
       "      <td>/api/v1/book</td>\n",
       "      <td>0</td>\n",
       "      <td>python-requests/2.32.5</td>\n",
       "      <td>True</td>\n",
       "      <td>ddf72b6676cb429c9adf5335634fdb407bf3319e34499d...</td>\n",
       "      <td>0</td>\n",
       "      <td>0</td>\n",
       "      <td>0.000000</td>\n",
       "      <td>1</td>\n",
       "      <td>authorization_header_present,suspicious_quotes...</td>\n",
       "      <td>200</td>\n",
       "      <td>124.16</td>\n",
       "      <td>110323</td>\n",
       "      <td>0</td>\n",
       "    </tr>\n",
       "    <tr>\n",
       "      <th>2</th>\n",
       "      <td>2025-09-03T06:23:34.313Z</td>\n",
       "      <td>POST</td>\n",
       "      <td>/api/v1/auth/signup</td>\n",
       "      <td>0</td>\n",
       "      <td>python-requests/2.32.5</td>\n",
       "      <td>False</td>\n",
       "      <td>ddf72b6676cb429c9adf5335634fdb407bf3319e34499d...</td>\n",
       "      <td>54</td>\n",
       "      <td>2</td>\n",
       "      <td>11.000000</td>\n",
       "      <td>1</td>\n",
       "      <td>suspicious_quotes_or_escape</td>\n",
       "      <td>201</td>\n",
       "      <td>129.52</td>\n",
       "      <td>61</td>\n",
       "      <td>0</td>\n",
       "    </tr>\n",
       "    <tr>\n",
       "      <th>3</th>\n",
       "      <td>2025-09-03T06:23:34.449Z</td>\n",
       "      <td>POST</td>\n",
       "      <td>/api/v1/auth/signin</td>\n",
       "      <td>0</td>\n",
       "      <td>python-requests/2.32.5</td>\n",
       "      <td>False</td>\n",
       "      <td>ddf72b6676cb429c9adf5335634fdb407bf3319e34499d...</td>\n",
       "      <td>54</td>\n",
       "      <td>2</td>\n",
       "      <td>11.000000</td>\n",
       "      <td>1</td>\n",
       "      <td>suspicious_quotes_or_escape</td>\n",
       "      <td>201</td>\n",
       "      <td>170.61</td>\n",
       "      <td>251</td>\n",
       "      <td>0</td>\n",
       "    </tr>\n",
       "    <tr>\n",
       "      <th>4</th>\n",
       "      <td>2025-09-03T06:23:34.627Z</td>\n",
       "      <td>POST</td>\n",
       "      <td>/api/v1/book</td>\n",
       "      <td>0</td>\n",
       "      <td>python-requests/2.32.5</td>\n",
       "      <td>True</td>\n",
       "      <td>ddf72b6676cb429c9adf5335634fdb407bf3319e34499d...</td>\n",
       "      <td>81</td>\n",
       "      <td>3</td>\n",
       "      <td>12.333333</td>\n",
       "      <td>1</td>\n",
       "      <td>authorization_header_present,suspicious_quotes...</td>\n",
       "      <td>201</td>\n",
       "      <td>12.80</td>\n",
       "      <td>217</td>\n",
       "      <td>0</td>\n",
       "    </tr>\n",
       "  </tbody>\n",
       "</table>\n",
       "</div>"
      ],
      "text/plain": [
       "                  timestamp http_method             endpoint  \\\n",
       "0  2025-09-03T06:23:33.316Z        POST         /api/v1/book   \n",
       "1  2025-09-03T06:23:33.354Z         GET         /api/v1/book   \n",
       "2  2025-09-03T06:23:34.313Z        POST  /api/v1/auth/signup   \n",
       "3  2025-09-03T06:23:34.449Z        POST  /api/v1/auth/signin   \n",
       "4  2025-09-03T06:23:34.627Z        POST         /api/v1/book   \n",
       "\n",
       "   query_params_count              user_agent  authorization_present  \\\n",
       "0                   0  python-requests/2.32.5                   True   \n",
       "1                   0  python-requests/2.32.5                   True   \n",
       "2                   0  python-requests/2.32.5                  False   \n",
       "3                   0  python-requests/2.32.5                  False   \n",
       "4                   0  python-requests/2.32.5                   True   \n",
       "\n",
       "                                             ip_hash  content_length_bytes  \\\n",
       "0  ddf72b6676cb429c9adf5335634fdb407bf3319e34499d...                    81   \n",
       "1  ddf72b6676cb429c9adf5335634fdb407bf3319e34499d...                     0   \n",
       "2  ddf72b6676cb429c9adf5335634fdb407bf3319e34499d...                    54   \n",
       "3  ddf72b6676cb429c9adf5335634fdb407bf3319e34499d...                    54   \n",
       "4  ddf72b6676cb429c9adf5335634fdb407bf3319e34499d...                    81   \n",
       "\n",
       "   num_fields  avg_field_length  failed_auth_attempts_last_10min  \\\n",
       "0           3         12.333333                                1   \n",
       "1           0          0.000000                                1   \n",
       "2           2         11.000000                                1   \n",
       "3           2         11.000000                                1   \n",
       "4           3         12.333333                                1   \n",
       "\n",
       "                        suspicious_patterns_detected  statusCode  duration_ms  \\\n",
       "0  authorization_header_present,suspicious_quotes...         201        28.06   \n",
       "1  authorization_header_present,suspicious_quotes...         200       124.16   \n",
       "2                        suspicious_quotes_or_escape         201       129.52   \n",
       "3                        suspicious_quotes_or_escape         201       170.61   \n",
       "4  authorization_header_present,suspicious_quotes...         201        12.80   \n",
       "\n",
       "   responseSize  label_attack  \n",
       "0           217             0  \n",
       "1        110323             0  \n",
       "2            61             0  \n",
       "3           251             0  \n",
       "4           217             0  "
      ]
     },
     "execution_count": 18,
     "metadata": {},
     "output_type": "execute_result"
    }
   ],
   "source": [
    "# Dependencias\n",
    "import os\n",
    "import numpy as np\n",
    "import pandas as pd\n",
    "\n",
    "from sklearn.model_selection import train_test_split, GridSearchCV\n",
    "from sklearn.compose import ColumnTransformer\n",
    "from sklearn.preprocessing import OneHotEncoder\n",
    "from sklearn.pipeline import Pipeline\n",
    "from sklearn.ensemble import RandomForestClassifier\n",
    "from sklearn.metrics import classification_report, confusion_matrix, roc_auc_score, RocCurveDisplay\n",
    "from sklearn.inspection import permutation_importance\n",
    "\n",
    "import matplotlib.pyplot as plt\n",
    "\n",
    "from joblib import dump\n",
    "\n",
    "CSV_PATH = 'api_logs_ml_ready.csv'  # Ajusta si tu CSV está en otro sitio\n",
    "assert os.path.exists(CSV_PATH), f'No se encontró el CSV en {CSV_PATH}'\n",
    "df = pd.read_csv(CSV_PATH)\n",
    "print('Shape:', df.shape)\n",
    "df.head()"
   ]
  },
  {
   "cell_type": "markdown",
   "id": "613ddc2a",
   "metadata": {},
   "source": [
    "## 1) Análisis exploratorio rápido"
   ]
  },
  {
   "cell_type": "code",
   "execution_count": 19,
   "id": "f42c3c4c",
   "metadata": {},
   "outputs": [
    {
     "data": {
      "text/plain": [
       "timestamp                           object\n",
       "http_method                         object\n",
       "endpoint                            object\n",
       "query_params_count                   int64\n",
       "user_agent                          object\n",
       "authorization_present                 bool\n",
       "ip_hash                             object\n",
       "content_length_bytes                 int64\n",
       "num_fields                           int64\n",
       "avg_field_length                   float64\n",
       "failed_auth_attempts_last_10min      int64\n",
       "suspicious_patterns_detected        object\n",
       "statusCode                           int64\n",
       "duration_ms                        float64\n",
       "responseSize                         int64\n",
       "label_attack                         int64\n",
       "dtype: object"
      ]
     },
     "metadata": {},
     "output_type": "display_data"
    },
    {
     "data": {
      "text/plain": [
       "timestamp                          0.0\n",
       "http_method                        0.0\n",
       "endpoint                           0.0\n",
       "query_params_count                 0.0\n",
       "user_agent                         0.0\n",
       "authorization_present              0.0\n",
       "ip_hash                            0.0\n",
       "content_length_bytes               0.0\n",
       "num_fields                         0.0\n",
       "avg_field_length                   0.0\n",
       "failed_auth_attempts_last_10min    0.0\n",
       "suspicious_patterns_detected       0.0\n",
       "statusCode                         0.0\n",
       "duration_ms                        0.0\n",
       "responseSize                       0.0\n",
       "label_attack                       0.0\n",
       "dtype: float64"
      ]
     },
     "metadata": {},
     "output_type": "display_data"
    },
    {
     "name": "stdout",
     "output_type": "stream",
     "text": [
      "label_attack\n",
      "0    2398\n",
      "1    1200\n",
      "Name: count, dtype: int64\n"
     ]
    },
    {
     "data": {
      "text/plain": [
       "label_attack\n",
       "0    66.65\n",
       "1    33.35\n",
       "Name: proportion, dtype: float64"
      ]
     },
     "execution_count": 19,
     "metadata": {},
     "output_type": "execute_result"
    }
   ],
   "source": [
    "\n",
    "# Tipos y valores faltantes\n",
    "display(df.dtypes)\n",
    "display(df.isna().mean().sort_values(ascending=False).head(20))\n",
    "\n",
    "# Distribución de la etiqueta\n",
    "if 'label_attack' not in df.columns:\n",
    "    raise ValueError(\"No se encontró la columna 'label_attack' en el CSV. Asegúrate de que existe y es 0/1.\")\n",
    "print(df['label_attack'].value_counts(dropna=False))\n",
    "df['label_attack'].value_counts(normalize=True).mul(100).round(2)\n"
   ]
  },
  {
   "cell_type": "markdown",
   "id": "c315870b",
   "metadata": {},
   "source": [
    "## 2) Selección de variables"
   ]
  },
  {
   "cell_type": "code",
   "execution_count": 20,
   "id": "c6fff695",
   "metadata": {},
   "outputs": [
    {
     "name": "stdout",
     "output_type": "stream",
     "text": [
      "Usando features: ['http_method', 'endpoint', 'query_params_count', 'authorization_present', 'ip_hash', 'content_length_bytes', 'num_fields', 'avg_field_length', 'failed_auth_attempts_last_10min', 'suspicious_patterns_detected', 'statusCode', 'duration_ms', 'responseSize']\n"
     ]
    }
   ],
   "source": [
    "# Definimos columnas candidatas\n",
    "potential_features = [\n",
    "    'http_method',\n",
    "    'endpoint',\n",
    "    'query_params_count',\n",
    "    #'user_agent',\n",
    "    'authorization_present',\n",
    "    'ip_hash',\n",
    "    'content_length_bytes',\n",
    "    'num_fields',\n",
    "    'avg_field_length',\n",
    "    'failed_auth_attempts_last_10min',\n",
    "    'suspicious_patterns_detected',\n",
    "    'statusCode',\n",
    "    'duration_ms',\n",
    "    'responseSize'\n",
    "]\n",
    "\n",
    "existing_features = [c for c in potential_features if c in df.columns]\n",
    "missing = set(potential_features) - set(existing_features)\n",
    "print(\"Usando features:\", existing_features)\n",
    "if missing:\n",
    "    print(\"Aviso: no se encontraron estas columnas y serán ignoradas:\", missing)\n",
    "\n",
    "X = df[existing_features].copy()\n",
    "y = df['label_attack'].astype(int)\n",
    "\n",
    "# Convertimos tipos: booleanos a int, listas/strings a string\n",
    "for col in X.columns:\n",
    "    if X[col].dtype == bool:\n",
    "        X[col] = X[col].astype(int)\n",
    "    if X[col].dtype == object:\n",
    "        X[col] = X[col].astype(str)\n"
   ]
  },
  {
   "cell_type": "markdown",
   "id": "d93827b2",
   "metadata": {},
   "source": [
    "## 3) Split entrenamiento / validación"
   ]
  },
  {
   "cell_type": "code",
   "execution_count": 21,
   "id": "a68d3213",
   "metadata": {},
   "outputs": [
    {
     "data": {
      "text/plain": [
       "((2698, 13), (900, 13))"
      ]
     },
     "execution_count": 21,
     "metadata": {},
     "output_type": "execute_result"
    }
   ],
   "source": [
    "\n",
    "X_train, X_test, y_train, y_test = train_test_split(\n",
    "    X, y, test_size=0.25, random_state=42, stratify=y\n",
    ")\n",
    "X_train.shape, X_test.shape\n"
   ]
  },
  {
   "cell_type": "markdown",
   "id": "a9a69e34",
   "metadata": {},
   "source": [
    "## 4) Pipeline de preprocesado + modelo con GridSearchCV"
   ]
  },
  {
   "cell_type": "code",
   "execution_count": 22,
   "id": "a43c8eea",
   "metadata": {},
   "outputs": [
    {
     "name": "stdout",
     "output_type": "stream",
     "text": [
      "Fitting 3 folds for each of 54 candidates, totalling 162 fits\n",
      "[CV] END rf__max_depth=None, rf__min_samples_leaf=1, rf__min_samples_split=2, rf__n_estimators=100; total time=   0.6s\n",
      "[CV] END rf__max_depth=None, rf__min_samples_leaf=1, rf__min_samples_split=2, rf__n_estimators=100; total time=   0.6s\n",
      "[CV] END rf__max_depth=None, rf__min_samples_leaf=1, rf__min_samples_split=2, rf__n_estimators=100; total time=   0.6s\n",
      "[CV] END rf__max_depth=None, rf__min_samples_leaf=1, rf__min_samples_split=2, rf__n_estimators=200; total time=   1.2s\n",
      "[CV] END rf__max_depth=None, rf__min_samples_leaf=1, rf__min_samples_split=2, rf__n_estimators=200; total time=   1.1s\n",
      "[CV] END rf__max_depth=None, rf__min_samples_leaf=1, rf__min_samples_split=2, rf__n_estimators=200; total time=   1.1s\n",
      "[CV] END rf__max_depth=None, rf__min_samples_leaf=1, rf__min_samples_split=5, rf__n_estimators=100; total time=   0.6s\n",
      "[CV] END rf__max_depth=None, rf__min_samples_leaf=1, rf__min_samples_split=2, rf__n_estimators=300; total time=   1.7s\n",
      "[CV] END rf__max_depth=None, rf__min_samples_leaf=1, rf__min_samples_split=5, rf__n_estimators=100; total time=   0.6s\n",
      "[CV] END rf__max_depth=None, rf__min_samples_leaf=1, rf__min_samples_split=2, rf__n_estimators=300; total time=   1.7s\n",
      "[CV] END rf__max_depth=None, rf__min_samples_leaf=1, rf__min_samples_split=5, rf__n_estimators=100; total time=   0.6s\n",
      "[CV] END rf__max_depth=None, rf__min_samples_leaf=1, rf__min_samples_split=2, rf__n_estimators=300; total time=   1.9s\n",
      "[CV] END rf__max_depth=None, rf__min_samples_leaf=1, rf__min_samples_split=5, rf__n_estimators=200; total time=   1.1s\n",
      "[CV] END rf__max_depth=None, rf__min_samples_leaf=1, rf__min_samples_split=5, rf__n_estimators=200; total time=   1.1s\n",
      "[CV] END rf__max_depth=None, rf__min_samples_leaf=1, rf__min_samples_split=5, rf__n_estimators=200; total time=   1.1s\n",
      "[CV] END rf__max_depth=None, rf__min_samples_leaf=2, rf__min_samples_split=2, rf__n_estimators=100; total time=   0.5s\n",
      "[CV] END rf__max_depth=None, rf__min_samples_leaf=2, rf__min_samples_split=2, rf__n_estimators=100; total time=   0.5s\n",
      "[CV] END rf__max_depth=None, rf__min_samples_leaf=1, rf__min_samples_split=5, rf__n_estimators=300; total time=   1.8s\n",
      "[CV] END rf__max_depth=None, rf__min_samples_leaf=1, rf__min_samples_split=5, rf__n_estimators=300; total time=   1.6s\n",
      "[CV] END rf__max_depth=None, rf__min_samples_leaf=1, rf__min_samples_split=5, rf__n_estimators=300; total time=   1.6s\n",
      "[CV] END rf__max_depth=None, rf__min_samples_leaf=2, rf__min_samples_split=2, rf__n_estimators=100; total time=   0.6s\n",
      "[CV] END rf__max_depth=None, rf__min_samples_leaf=2, rf__min_samples_split=2, rf__n_estimators=200; total time=   1.2s\n",
      "[CV] END rf__max_depth=None, rf__min_samples_leaf=2, rf__min_samples_split=2, rf__n_estimators=200; total time=   1.0s\n",
      "[CV] END rf__max_depth=None, rf__min_samples_leaf=2, rf__min_samples_split=2, rf__n_estimators=200; total time=   1.1s\n",
      "[CV] END rf__max_depth=None, rf__min_samples_leaf=2, rf__min_samples_split=5, rf__n_estimators=100; total time=   0.5s\n",
      "[CV] END rf__max_depth=None, rf__min_samples_leaf=2, rf__min_samples_split=2, rf__n_estimators=300; total time=   1.7s\n",
      "[CV] END rf__max_depth=None, rf__min_samples_leaf=2, rf__min_samples_split=5, rf__n_estimators=100; total time=   0.6s\n",
      "[CV] END rf__max_depth=None, rf__min_samples_leaf=2, rf__min_samples_split=5, rf__n_estimators=100; total time=   0.6s\n",
      "[CV] END rf__max_depth=None, rf__min_samples_leaf=2, rf__min_samples_split=2, rf__n_estimators=300; total time=   1.7s\n",
      "[CV] END rf__max_depth=None, rf__min_samples_leaf=2, rf__min_samples_split=2, rf__n_estimators=300; total time=   1.6s\n",
      "[CV] END rf__max_depth=None, rf__min_samples_leaf=2, rf__min_samples_split=5, rf__n_estimators=200; total time=   1.2s\n",
      "[CV] END rf__max_depth=None, rf__min_samples_leaf=2, rf__min_samples_split=5, rf__n_estimators=200; total time=   1.1s\n",
      "[CV] END rf__max_depth=None, rf__min_samples_leaf=2, rf__min_samples_split=5, rf__n_estimators=200; total time=   1.1s\n",
      "[CV] END rf__max_depth=None, rf__min_samples_leaf=4, rf__min_samples_split=2, rf__n_estimators=100; total time=   0.5s\n",
      "[CV] END rf__max_depth=None, rf__min_samples_leaf=2, rf__min_samples_split=5, rf__n_estimators=300; total time=   1.6s\n",
      "[CV] END rf__max_depth=None, rf__min_samples_leaf=4, rf__min_samples_split=2, rf__n_estimators=100; total time=   0.6s\n",
      "[CV] END rf__max_depth=None, rf__min_samples_leaf=4, rf__min_samples_split=2, rf__n_estimators=100; total time=   0.5s\n",
      "[CV] END rf__max_depth=None, rf__min_samples_leaf=2, rf__min_samples_split=5, rf__n_estimators=300; total time=   1.6s\n",
      "[CV] END rf__max_depth=None, rf__min_samples_leaf=2, rf__min_samples_split=5, rf__n_estimators=300; total time=   1.6s\n",
      "[CV] END rf__max_depth=None, rf__min_samples_leaf=4, rf__min_samples_split=2, rf__n_estimators=200; total time=   1.0s\n",
      "[CV] END rf__max_depth=None, rf__min_samples_leaf=4, rf__min_samples_split=2, rf__n_estimators=200; total time=   1.1s\n",
      "[CV] END rf__max_depth=None, rf__min_samples_leaf=4, rf__min_samples_split=2, rf__n_estimators=200; total time=   1.0s\n",
      "[CV] END rf__max_depth=None, rf__min_samples_leaf=4, rf__min_samples_split=5, rf__n_estimators=100; total time=   0.6s\n",
      "[CV] END rf__max_depth=None, rf__min_samples_leaf=4, rf__min_samples_split=2, rf__n_estimators=300; total time=   1.6s\n",
      "[CV] END rf__max_depth=None, rf__min_samples_leaf=4, rf__min_samples_split=5, rf__n_estimators=100; total time=   0.5s\n",
      "[CV] END rf__max_depth=None, rf__min_samples_leaf=4, rf__min_samples_split=5, rf__n_estimators=100; total time=   0.5s\n",
      "[CV] END rf__max_depth=None, rf__min_samples_leaf=4, rf__min_samples_split=2, rf__n_estimators=300; total time=   1.8s\n",
      "[CV] END rf__max_depth=None, rf__min_samples_leaf=4, rf__min_samples_split=2, rf__n_estimators=300; total time=   1.8s\n",
      "[CV] END rf__max_depth=None, rf__min_samples_leaf=4, rf__min_samples_split=5, rf__n_estimators=200; total time=   1.7s\n",
      "[CV] END rf__max_depth=None, rf__min_samples_leaf=4, rf__min_samples_split=5, rf__n_estimators=200; total time=   1.7s\n",
      "[CV] END rf__max_depth=None, rf__min_samples_leaf=4, rf__min_samples_split=5, rf__n_estimators=200; total time=   1.6s\n",
      "[CV] END rf__max_depth=10, rf__min_samples_leaf=1, rf__min_samples_split=2, rf__n_estimators=100; total time=   0.7s\n",
      "[CV] END rf__max_depth=None, rf__min_samples_leaf=4, rf__min_samples_split=5, rf__n_estimators=300; total time=   2.6s\n",
      "[CV] END rf__max_depth=10, rf__min_samples_leaf=1, rf__min_samples_split=2, rf__n_estimators=100; total time=   1.4s\n",
      "[CV] END rf__max_depth=10, rf__min_samples_leaf=1, rf__min_samples_split=2, rf__n_estimators=100; total time=   1.3s\n",
      "[CV] END rf__max_depth=None, rf__min_samples_leaf=4, rf__min_samples_split=5, rf__n_estimators=300; total time=   2.7s\n",
      "[CV] END rf__max_depth=None, rf__min_samples_leaf=4, rf__min_samples_split=5, rf__n_estimators=300; total time=   2.7s\n",
      "[CV] END rf__max_depth=10, rf__min_samples_leaf=1, rf__min_samples_split=2, rf__n_estimators=200; total time=   2.2s\n",
      "[CV] END rf__max_depth=10, rf__min_samples_leaf=1, rf__min_samples_split=2, rf__n_estimators=200; total time=   2.0s\n",
      "[CV] END rf__max_depth=10, rf__min_samples_leaf=1, rf__min_samples_split=2, rf__n_estimators=200; total time=   2.1s\n",
      "[CV] END rf__max_depth=10, rf__min_samples_leaf=1, rf__min_samples_split=5, rf__n_estimators=100; total time=   0.8s\n",
      "[CV] END rf__max_depth=10, rf__min_samples_leaf=1, rf__min_samples_split=2, rf__n_estimators=300; total time=   3.1s\n",
      "[CV] END rf__max_depth=10, rf__min_samples_leaf=1, rf__min_samples_split=5, rf__n_estimators=100; total time=   0.8s\n",
      "[CV] END rf__max_depth=10, rf__min_samples_leaf=1, rf__min_samples_split=5, rf__n_estimators=100; total time=   1.0s\n",
      "[CV] END rf__max_depth=10, rf__min_samples_leaf=1, rf__min_samples_split=2, rf__n_estimators=300; total time=   2.5s\n",
      "[CV] END rf__max_depth=10, rf__min_samples_leaf=1, rf__min_samples_split=2, rf__n_estimators=300; total time=   2.5s\n",
      "[CV] END rf__max_depth=10, rf__min_samples_leaf=1, rf__min_samples_split=5, rf__n_estimators=200; total time=   1.5s\n",
      "[CV] END rf__max_depth=10, rf__min_samples_leaf=1, rf__min_samples_split=5, rf__n_estimators=200; total time=   1.4s\n",
      "[CV] END rf__max_depth=10, rf__min_samples_leaf=1, rf__min_samples_split=5, rf__n_estimators=200; total time=   1.2s\n",
      "[CV] END rf__max_depth=10, rf__min_samples_leaf=2, rf__min_samples_split=2, rf__n_estimators=100; total time=   0.5s\n",
      "[CV] END rf__max_depth=10, rf__min_samples_leaf=1, rf__min_samples_split=5, rf__n_estimators=300; total time=   2.1s\n",
      "[CV] END rf__max_depth=10, rf__min_samples_leaf=2, rf__min_samples_split=2, rf__n_estimators=100; total time=   0.8s\n",
      "[CV] END rf__max_depth=10, rf__min_samples_leaf=1, rf__min_samples_split=5, rf__n_estimators=300; total time=   2.0s\n",
      "[CV] END rf__max_depth=10, rf__min_samples_leaf=2, rf__min_samples_split=2, rf__n_estimators=100; total time=   0.7s\n",
      "[CV] END rf__max_depth=10, rf__min_samples_leaf=1, rf__min_samples_split=5, rf__n_estimators=300; total time=   2.0s\n",
      "[CV] END rf__max_depth=10, rf__min_samples_leaf=2, rf__min_samples_split=2, rf__n_estimators=200; total time=   1.4s\n",
      "[CV] END rf__max_depth=10, rf__min_samples_leaf=2, rf__min_samples_split=2, rf__n_estimators=200; total time=   1.3s\n",
      "[CV] END rf__max_depth=10, rf__min_samples_leaf=2, rf__min_samples_split=2, rf__n_estimators=200; total time=   1.2s\n",
      "[CV] END rf__max_depth=10, rf__min_samples_leaf=2, rf__min_samples_split=5, rf__n_estimators=100; total time=   0.7s\n",
      "[CV] END rf__max_depth=10, rf__min_samples_leaf=2, rf__min_samples_split=2, rf__n_estimators=300; total time=   1.9s\n",
      "[CV] END rf__max_depth=10, rf__min_samples_leaf=2, rf__min_samples_split=5, rf__n_estimators=100; total time=   1.0s\n",
      "[CV] END rf__max_depth=10, rf__min_samples_leaf=2, rf__min_samples_split=5, rf__n_estimators=100; total time=   1.1s\n",
      "[CV] END rf__max_depth=10, rf__min_samples_leaf=2, rf__min_samples_split=2, rf__n_estimators=300; total time=   2.7s\n",
      "[CV] END rf__max_depth=10, rf__min_samples_leaf=2, rf__min_samples_split=2, rf__n_estimators=300; total time=   2.8s\n",
      "[CV] END rf__max_depth=10, rf__min_samples_leaf=2, rf__min_samples_split=5, rf__n_estimators=200; total time=   2.5s\n",
      "[CV] END rf__max_depth=10, rf__min_samples_leaf=2, rf__min_samples_split=5, rf__n_estimators=200; total time=   2.3s\n",
      "[CV] END rf__max_depth=10, rf__min_samples_leaf=2, rf__min_samples_split=5, rf__n_estimators=200; total time=   2.2s\n",
      "[CV] END rf__max_depth=10, rf__min_samples_leaf=4, rf__min_samples_split=2, rf__n_estimators=100; total time=   0.9s\n",
      "[CV] END rf__max_depth=10, rf__min_samples_leaf=2, rf__min_samples_split=5, rf__n_estimators=300; total time=   3.7s\n",
      "[CV] END rf__max_depth=10, rf__min_samples_leaf=4, rf__min_samples_split=2, rf__n_estimators=100; total time=   1.6s\n",
      "[CV] END rf__max_depth=10, rf__min_samples_leaf=2, rf__min_samples_split=5, rf__n_estimators=300; total time=   3.6s\n",
      "[CV] END rf__max_depth=10, rf__min_samples_leaf=2, rf__min_samples_split=5, rf__n_estimators=300; total time=   3.6s\n",
      "[CV] END rf__max_depth=10, rf__min_samples_leaf=4, rf__min_samples_split=2, rf__n_estimators=100; total time=   1.6s\n",
      "[CV] END rf__max_depth=10, rf__min_samples_leaf=4, rf__min_samples_split=2, rf__n_estimators=200; total time=   2.0s\n",
      "[CV] END rf__max_depth=10, rf__min_samples_leaf=4, rf__min_samples_split=2, rf__n_estimators=200; total time=   1.9s\n",
      "[CV] END rf__max_depth=10, rf__min_samples_leaf=4, rf__min_samples_split=2, rf__n_estimators=200; total time=   1.8s\n",
      "[CV] END rf__max_depth=10, rf__min_samples_leaf=4, rf__min_samples_split=5, rf__n_estimators=100; total time=   0.7s\n",
      "[CV] END rf__max_depth=10, rf__min_samples_leaf=4, rf__min_samples_split=2, rf__n_estimators=300; total time=   2.9s\n",
      "[CV] END rf__max_depth=10, rf__min_samples_leaf=4, rf__min_samples_split=5, rf__n_estimators=100; total time=   0.7s\n",
      "[CV] END rf__max_depth=10, rf__min_samples_leaf=4, rf__min_samples_split=5, rf__n_estimators=100; total time=   0.6s\n",
      "[CV] END rf__max_depth=10, rf__min_samples_leaf=4, rf__min_samples_split=2, rf__n_estimators=300; total time=   2.3s\n",
      "[CV] END rf__max_depth=10, rf__min_samples_leaf=4, rf__min_samples_split=2, rf__n_estimators=300; total time=   1.9s\n",
      "[CV] END rf__max_depth=10, rf__min_samples_leaf=4, rf__min_samples_split=5, rf__n_estimators=200; total time=   1.4s\n",
      "[CV] END rf__max_depth=10, rf__min_samples_leaf=4, rf__min_samples_split=5, rf__n_estimators=200; total time=   1.3s\n",
      "[CV] END rf__max_depth=10, rf__min_samples_leaf=4, rf__min_samples_split=5, rf__n_estimators=200; total time=   1.3s\n",
      "[CV] END rf__max_depth=20, rf__min_samples_leaf=1, rf__min_samples_split=2, rf__n_estimators=100; total time=   0.6s\n",
      "[CV] END rf__max_depth=10, rf__min_samples_leaf=4, rf__min_samples_split=5, rf__n_estimators=300; total time=   2.0s\n",
      "[CV] END rf__max_depth=20, rf__min_samples_leaf=1, rf__min_samples_split=2, rf__n_estimators=100; total time=   0.6s\n",
      "[CV] END rf__max_depth=20, rf__min_samples_leaf=1, rf__min_samples_split=2, rf__n_estimators=100; total time=   0.5s\n",
      "[CV] END rf__max_depth=10, rf__min_samples_leaf=4, rf__min_samples_split=5, rf__n_estimators=300; total time=   1.7s\n",
      "[CV] END rf__max_depth=10, rf__min_samples_leaf=4, rf__min_samples_split=5, rf__n_estimators=300; total time=   1.7s\n",
      "[CV] END rf__max_depth=20, rf__min_samples_leaf=1, rf__min_samples_split=2, rf__n_estimators=200; total time=   1.2s\n",
      "[CV] END rf__max_depth=20, rf__min_samples_leaf=1, rf__min_samples_split=2, rf__n_estimators=200; total time=   1.2s\n",
      "[CV] END rf__max_depth=20, rf__min_samples_leaf=1, rf__min_samples_split=2, rf__n_estimators=200; total time=   1.1s\n",
      "[CV] END rf__max_depth=20, rf__min_samples_leaf=1, rf__min_samples_split=2, rf__n_estimators=300; total time=   1.6s\n",
      "[CV] END rf__max_depth=20, rf__min_samples_leaf=1, rf__min_samples_split=5, rf__n_estimators=100; total time=   0.6s\n",
      "[CV] END rf__max_depth=20, rf__min_samples_leaf=1, rf__min_samples_split=5, rf__n_estimators=100; total time=   0.6s\n",
      "[CV] END rf__max_depth=20, rf__min_samples_leaf=1, rf__min_samples_split=5, rf__n_estimators=100; total time=   0.6s\n",
      "[CV] END rf__max_depth=20, rf__min_samples_leaf=1, rf__min_samples_split=2, rf__n_estimators=300; total time=   1.8s\n",
      "[CV] END rf__max_depth=20, rf__min_samples_leaf=1, rf__min_samples_split=2, rf__n_estimators=300; total time=   2.2s\n",
      "[CV] END rf__max_depth=20, rf__min_samples_leaf=1, rf__min_samples_split=5, rf__n_estimators=200; total time=   1.6s\n",
      "[CV] END rf__max_depth=20, rf__min_samples_leaf=1, rf__min_samples_split=5, rf__n_estimators=200; total time=   1.8s\n",
      "[CV] END rf__max_depth=20, rf__min_samples_leaf=1, rf__min_samples_split=5, rf__n_estimators=200; total time=   2.3s\n",
      "[CV] END rf__max_depth=20, rf__min_samples_leaf=2, rf__min_samples_split=2, rf__n_estimators=100; total time=   0.6s\n",
      "[CV] END rf__max_depth=20, rf__min_samples_leaf=1, rf__min_samples_split=5, rf__n_estimators=300; total time=   2.7s\n",
      "[CV] END rf__max_depth=20, rf__min_samples_leaf=1, rf__min_samples_split=5, rf__n_estimators=300; total time=   2.2s\n",
      "[CV] END rf__max_depth=20, rf__min_samples_leaf=1, rf__min_samples_split=5, rf__n_estimators=300; total time=   2.3s\n",
      "[CV] END rf__max_depth=20, rf__min_samples_leaf=2, rf__min_samples_split=2, rf__n_estimators=100; total time=   0.8s\n",
      "[CV] END rf__max_depth=20, rf__min_samples_leaf=2, rf__min_samples_split=2, rf__n_estimators=100; total time=   0.9s\n",
      "[CV] END rf__max_depth=20, rf__min_samples_leaf=2, rf__min_samples_split=2, rf__n_estimators=200; total time=   1.8s\n",
      "[CV] END rf__max_depth=20, rf__min_samples_leaf=2, rf__min_samples_split=2, rf__n_estimators=200; total time=   1.7s\n",
      "[CV] END rf__max_depth=20, rf__min_samples_leaf=2, rf__min_samples_split=2, rf__n_estimators=200; total time=   1.8s\n",
      "[CV] END rf__max_depth=20, rf__min_samples_leaf=2, rf__min_samples_split=5, rf__n_estimators=100; total time=   0.8s\n",
      "[CV] END rf__max_depth=20, rf__min_samples_leaf=2, rf__min_samples_split=2, rf__n_estimators=300; total time=   3.0s\n",
      "[CV] END rf__max_depth=20, rf__min_samples_leaf=2, rf__min_samples_split=5, rf__n_estimators=100; total time=   0.8s\n",
      "[CV] END rf__max_depth=20, rf__min_samples_leaf=2, rf__min_samples_split=2, rf__n_estimators=300; total time=   2.4s\n",
      "[CV] END rf__max_depth=20, rf__min_samples_leaf=2, rf__min_samples_split=2, rf__n_estimators=300; total time=   2.5s\n",
      "[CV] END rf__max_depth=20, rf__min_samples_leaf=2, rf__min_samples_split=5, rf__n_estimators=100; total time=   0.6s\n",
      "[CV] END rf__max_depth=20, rf__min_samples_leaf=2, rf__min_samples_split=5, rf__n_estimators=200; total time=   1.2s\n",
      "[CV] END rf__max_depth=20, rf__min_samples_leaf=2, rf__min_samples_split=5, rf__n_estimators=200; total time=   1.0s\n",
      "[CV] END rf__max_depth=20, rf__min_samples_leaf=2, rf__min_samples_split=5, rf__n_estimators=200; total time=   1.1s\n",
      "[CV] END rf__max_depth=20, rf__min_samples_leaf=4, rf__min_samples_split=2, rf__n_estimators=100; total time=   0.6s\n",
      "[CV] END rf__max_depth=20, rf__min_samples_leaf=2, rf__min_samples_split=5, rf__n_estimators=300; total time=   1.7s\n",
      "[CV] END rf__max_depth=20, rf__min_samples_leaf=4, rf__min_samples_split=2, rf__n_estimators=100; total time=   0.5s\n",
      "[CV] END rf__max_depth=20, rf__min_samples_leaf=4, rf__min_samples_split=2, rf__n_estimators=100; total time=   0.6s\n",
      "[CV] END rf__max_depth=20, rf__min_samples_leaf=2, rf__min_samples_split=5, rf__n_estimators=300; total time=   1.8s\n",
      "[CV] END rf__max_depth=20, rf__min_samples_leaf=2, rf__min_samples_split=5, rf__n_estimators=300; total time=   1.9s\n",
      "[CV] END rf__max_depth=20, rf__min_samples_leaf=4, rf__min_samples_split=2, rf__n_estimators=200; total time=   1.3s\n",
      "[CV] END rf__max_depth=20, rf__min_samples_leaf=4, rf__min_samples_split=2, rf__n_estimators=200; total time=   1.3s\n",
      "[CV] END rf__max_depth=20, rf__min_samples_leaf=4, rf__min_samples_split=2, rf__n_estimators=200; total time=   1.3s\n",
      "[CV] END rf__max_depth=20, rf__min_samples_leaf=4, rf__min_samples_split=5, rf__n_estimators=100; total time=   0.5s\n",
      "[CV] END rf__max_depth=20, rf__min_samples_leaf=4, rf__min_samples_split=2, rf__n_estimators=300; total time=   1.8s\n",
      "[CV] END rf__max_depth=20, rf__min_samples_leaf=4, rf__min_samples_split=5, rf__n_estimators=100; total time=   0.6s\n",
      "[CV] END rf__max_depth=20, rf__min_samples_leaf=4, rf__min_samples_split=2, rf__n_estimators=300; total time=   1.7s\n",
      "[CV] END rf__max_depth=20, rf__min_samples_leaf=4, rf__min_samples_split=2, rf__n_estimators=300; total time=   1.7s\n",
      "[CV] END rf__max_depth=20, rf__min_samples_leaf=4, rf__min_samples_split=5, rf__n_estimators=100; total time=   0.6s\n",
      "[CV] END rf__max_depth=20, rf__min_samples_leaf=4, rf__min_samples_split=5, rf__n_estimators=200; total time=   1.1s\n",
      "[CV] END rf__max_depth=20, rf__min_samples_leaf=4, rf__min_samples_split=5, rf__n_estimators=200; total time=   1.0s\n",
      "[CV] END rf__max_depth=20, rf__min_samples_leaf=4, rf__min_samples_split=5, rf__n_estimators=200; total time=   1.1s\n",
      "[CV] END rf__max_depth=20, rf__min_samples_leaf=4, rf__min_samples_split=5, rf__n_estimators=300; total time=   1.6s\n",
      "[CV] END rf__max_depth=20, rf__min_samples_leaf=4, rf__min_samples_split=5, rf__n_estimators=300; total time=   1.3s\n",
      "[CV] END rf__max_depth=20, rf__min_samples_leaf=4, rf__min_samples_split=5, rf__n_estimators=300; total time=   1.2s\n",
      "Mejores hiperparámetros encontrados:\n",
      "{'rf__max_depth': None, 'rf__min_samples_leaf': 1, 'rf__min_samples_split': 2, 'rf__n_estimators': 100}\n",
      "Mejor score medio en CV: 1.0\n"
     ]
    }
   ],
   "source": [
    "# Definimos columnas numéricas y categóricas de forma automática\n",
    "numeric_cols = [c for c in X.columns if pd.api.types.is_numeric_dtype(X[c])]\n",
    "categorical_cols = [c for c in X.columns if c not in numeric_cols]\n",
    "\n",
    "preprocess = ColumnTransformer(\n",
    "    transformers=[\n",
    "        ('cat', OneHotEncoder(handle_unknown='ignore'), categorical_cols),\n",
    "        ('num', 'passthrough', numeric_cols)\n",
    "    ]\n",
    ")\n",
    "\n",
    "clf = RandomForestClassifier(random_state=42, n_jobs=-1, class_weight='balanced')\n",
    "\n",
    "pipe = Pipeline(steps=[('prep', preprocess), ('rf', clf)])\n",
    "\n",
    "# Grid de hiperparámetros\n",
    "param_grid = {\n",
    "    'rf__n_estimators': [100, 200, 300],\n",
    "    'rf__max_depth': [None, 10, 20],\n",
    "    'rf__min_samples_split': [2, 5],\n",
    "    'rf__min_samples_leaf': [1, 2, 4]\n",
    "}\n",
    "\n",
    "grid_search = GridSearchCV(\n",
    "    pipe,\n",
    "    param_grid,\n",
    "    cv=3,\n",
    "    scoring='f1',\n",
    "    n_jobs=-1,\n",
    "    verbose=2\n",
    ")\n",
    "\n",
    "grid_search.fit(X_train, y_train)\n",
    "\n",
    "print(\"Mejores hiperparámetros encontrados:\")\n",
    "print(grid_search.best_params_)\n",
    "print(\"Mejor score medio en CV:\", grid_search.best_score_)\n",
    "\n",
    "best_pipe = grid_search.best_estimator_\n"
   ]
  },
  {
   "cell_type": "markdown",
   "id": "02821e0f",
   "metadata": {},
   "source": [
    "## 5) Evaluación del mejor modelo"
   ]
  },
  {
   "cell_type": "code",
   "execution_count": 23,
   "id": "97eeb62c",
   "metadata": {},
   "outputs": [
    {
     "name": "stdout",
     "output_type": "stream",
     "text": [
      "\n",
      "Classification report:\n",
      "\n",
      "              precision    recall  f1-score   support\n",
      "\n",
      "           0     1.0000    1.0000    1.0000       600\n",
      "           1     1.0000    1.0000    1.0000       300\n",
      "\n",
      "    accuracy                         1.0000       900\n",
      "   macro avg     1.0000    1.0000    1.0000       900\n",
      "weighted avg     1.0000    1.0000    1.0000       900\n",
      "\n",
      "Matriz de confusión:\n",
      " [[600   0]\n",
      " [  0 300]]\n",
      "ROC-AUC: 1.0000\n"
     ]
    },
    {
     "data": {
      "image/png": "[encoded data removed]",
      "text/plain": [
       "<Figure size 640x480 with 1 Axes>"
      ]
     },
     "metadata": {},
     "output_type": "display_data"
    },
    {
     "data": {
      "image/png": "[encoded data removed]",
      "text/plain": [
       "<Figure size 640x480 with 1 Axes>"
      ]
     },
     "metadata": {},
     "output_type": "display_data"
    }
   ],
   "source": [
    "\n",
    "y_pred = best_pipe.predict(X_test)\n",
    "y_proba = best_pipe.predict_proba(X_test)[:, 1]\n",
    "\n",
    "print(\"\\nClassification report:\\n\")\n",
    "print(classification_report(y_test, y_pred, digits=4))\n",
    "\n",
    "cm = confusion_matrix(y_test, y_pred)\n",
    "print(\"Matriz de confusión:\\n\", cm)\n",
    "\n",
    "try:\n",
    "    auc = roc_auc_score(y_test, y_proba)\n",
    "    print(f\"ROC-AUC: {auc:.4f}\")\n",
    "except Exception as e:\n",
    "    print(\"No se pudo calcular ROC-AUC:\", e)\n",
    "\n",
    "# Plot matriz de confusión\n",
    "fig, ax = plt.subplots()\n",
    "im = ax.imshow(cm)\n",
    "ax.set_title('Matriz de confusión')\n",
    "ax.set_xlabel('Predicción')\n",
    "ax.set_ylabel('Real')\n",
    "ax.set_xticks([0,1]); ax.set_yticks([0,1])\n",
    "ax.set_xticklabels(['Normal (0)', 'Ataque (1)'])\n",
    "ax.set_yticklabels(['Normal (0)', 'Ataque (1)'])\n",
    "for (i, j), val in np.ndenumerate(cm):\n",
    "    ax.text(j, i, int(val), ha='center', va='center')\n",
    "plt.show()\n",
    "\n",
    "# Plot curva ROC\n",
    "try:\n",
    "    RocCurveDisplay.from_estimator(best_pipe, X_test, y_test)\n",
    "    plt.title('Curva ROC')\n",
    "    plt.show()\n",
    "except Exception as e:\n",
    "    print(\"No se pudo trazar la curva ROC:\", e)\n"
   ]
  },
  {
   "cell_type": "markdown",
   "id": "e3801634",
   "metadata": {},
   "source": [
    "## 7) Guardar el pipeline entrenado"
   ]
  },
  {
   "cell_type": "code",
   "execution_count": 25,
   "id": "a6680533",
   "metadata": {},
   "outputs": [
    {
     "name": "stdout",
     "output_type": "stream",
     "text": [
      "Modelo guardado en: random_forest_api_attack_detector_tuned.joblib\n"
     ]
    }
   ],
   "source": [
    "\n",
    "MODEL_PATH = 'random_forest_api_attack_detector_tuned.joblib'\n",
    "dump(best_pipe, MODEL_PATH)\n",
    "print(f'Modelo guardado en: {MODEL_PATH}')\n"
   ]
  },
  {
   "cell_type": "markdown",
   "id": "6bdd3175",
   "metadata": {},
   "source": [
    "# Clasificación con XGBoost "
   ]
  },
  {
   "cell_type": "markdown",
   "id": "eff56496",
   "metadata": {},
   "source": [
    "## 1) Configuración"
   ]
  },
  {
   "cell_type": "code",
   "execution_count": 26,
   "id": "56db2ccd",
   "metadata": {},
   "outputs": [
    {
     "name": "stdout",
     "output_type": "stream",
     "text": [
      "Ruta de datos: api_logs_ml_ready_3.csv\n",
      "Target: label_attack\n",
      "Salida: outputs_xgboost\n"
     ]
    }
   ],
   "source": [
    "DATA_PATH = \"api_logs_ml_ready_3.csv\"\n",
    "OUTPUT_DIR = \"outputs_xgboost\"\n",
    "TARGET_COL = \"label_attack\"\n",
    "\n",
    "RANDOM_STATE = 42\n",
    "N_JOBS = -1\n",
    "\n",
    "from pathlib import Path\n",
    "Path(OUTPUT_DIR).mkdir(parents=True, exist_ok=True)\n",
    "\n",
    "print(f\"Ruta de datos: {DATA_PATH}\")\n",
    "print(f\"Target: {TARGET_COL}\")\n",
    "print(f\"Salida: {OUTPUT_DIR}\")"
   ]
  },
  {
   "cell_type": "markdown",
   "id": "8f937ad3",
   "metadata": {},
   "source": [
    "## 2) Importación de librerías incluido XGBoost"
   ]
  },
  {
   "cell_type": "code",
   "execution_count": 27,
   "id": "69eb4fcb",
   "metadata": {},
   "outputs": [],
   "source": [
    "import warnings\n",
    "warnings.filterwarnings(\"ignore\")\n",
    "\n",
    "import sys\n",
    "import numpy as np\n",
    "import pandas as pd\n",
    "import matplotlib.pyplot as plt\n",
    "\n",
    "from sklearn.model_selection import train_test_split, StratifiedKFold, RandomizedSearchCV\n",
    "from sklearn.preprocessing import OneHotEncoder, StandardScaler\n",
    "from sklearn.impute import SimpleImputer\n",
    "from sklearn.compose import ColumnTransformer\n",
    "from sklearn.pipeline import Pipeline\n",
    "from sklearn.metrics import (classification_report, confusion_matrix, roc_auc_score, RocCurveDisplay)\n",
    "from sklearn.inspection import permutation_importance\n",
    "\n",
    "from joblib import dump\n",
    "from xgboost import XGBClassifier"
   ]
  },
  {
   "cell_type": "markdown",
   "id": "aed4f9d1",
   "metadata": {},
   "source": [
    "## 3) Selección de columnas de entrada y objetivo"
   ]
  },
  {
   "cell_type": "code",
   "execution_count": 28,
   "id": "f5a095cc",
   "metadata": {},
   "outputs": [
    {
     "name": "stdout",
     "output_type": "stream",
     "text": [
      "Numéricas (9): ['query_params_count', 'authorization_present', 'content_length_bytes', 'num_fields', 'avg_field_length', 'failed_auth_attempts_last_10min', 'statusCode', 'duration_ms', 'responseSize'] \n",
      "Categóricas (6): ['timestamp', 'http_method', 'endpoint', 'user_agent', 'ip_hash', 'suspicious_patterns_detected'] \n"
     ]
    }
   ],
   "source": [
    "# Detectar columnas numéricas y categóricas\n",
    "numeric_cols = [c for c in df.columns if pd.api.types.is_numeric_dtype(df[c])]\n",
    "categorical_cols = [c for c in df.columns if c not in numeric_cols]\n",
    "\n",
    "# Target\n",
    "if TARGET_COL in df.columns:\n",
    "    y = df[TARGET_COL]\n",
    "    X = df.drop(columns=[TARGET_COL])\n",
    "    # Actualizar listas quitando target si quedó en ellas\n",
    "    if TARGET_COL in numeric_cols: numeric_cols.remove(TARGET_COL)\n",
    "    if TARGET_COL in categorical_cols: categorical_cols.remove(TARGET_COL)\n",
    "else:\n",
    "    y = None\n",
    "    X = df.copy()\n",
    "    print(f\"Aviso: TARGET_COL='{TARGET_COL}' no existe en el DataFrame. Define correctamente la variable objetivo.\")\n",
    "    \n",
    "print(f\"Numéricas ({len(numeric_cols)}):\", numeric_cols[:10], \"...\" if len(numeric_cols)>10 else \"\")\n",
    "print(f\"Categóricas ({len(categorical_cols)}):\", categorical_cols[:10], \"...\" if len(categorical_cols)>10 else \"\")"
   ]
  },
  {
   "cell_type": "markdown",
   "id": "10f84408",
   "metadata": {},
   "source": [
    "## 4) Partición *train/test*"
   ]
  },
  {
   "cell_type": "code",
   "execution_count": 29,
   "id": "bb3089bc",
   "metadata": {},
   "outputs": [
    {
     "name": "stdout",
     "output_type": "stream",
     "text": [
      "Shapes: (2878, 15) (720, 15)\n"
     ]
    }
   ],
   "source": [
    "if y is not None:\n",
    "    stratify = y if (y.nunique() <= 20) else None\n",
    "    X_train, X_test, y_train, y_test = train_test_split(\n",
    "        X, y, test_size=0.2, random_state=RANDOM_STATE, stratify=stratify\n",
    "    )\n",
    "    print(\"Shapes:\", X_train.shape, X_test.shape)\n",
    "else:\n",
    "    X_train = X_test = y_train = y_test = None\n",
    "    print(\"No hay target; no se puede continuar con el entrenamiento supervisado.\")"
   ]
  },
  {
   "cell_type": "markdown",
   "id": "01449171",
   "metadata": {},
   "source": [
    "## 5) Preprocesamiento"
   ]
  },
  {
   "cell_type": "code",
   "execution_count": 30,
   "id": "1cc37e46",
   "metadata": {},
   "outputs": [],
   "source": [
    "numeric_pipeline = Pipeline(steps=[\n",
    "    (\"imputer\", SimpleImputer(strategy=\"median\")),\n",
    "    (\"scaler\", StandardScaler()),\n",
    "])\n",
    "\n",
    "categorical_pipeline = Pipeline(steps=[\n",
    "    (\"imputer\", SimpleImputer(strategy=\"most_frequent\")),\n",
    "    (\"ohe\", OneHotEncoder(handle_unknown=\"ignore\")),\n",
    "])\n",
    "\n",
    "preprocessor = ColumnTransformer(\n",
    "    transformers=[\n",
    "        (\"num\", numeric_pipeline, numeric_cols),\n",
    "        (\"cat\", categorical_pipeline, categorical_cols),\n",
    "    ],\n",
    "    remainder=\"drop\",\n",
    "    sparse_threshold=0.3\n",
    ")\n",
    "\n",
    "def get_feature_names(pre):\n",
    "    output_features = []\n",
    "    for name, trans, cols in pre.transformers_:\n",
    "        if name == \"remainder\": \n",
    "            continue\n",
    "        if hasattr(trans, \"get_feature_names_out\"):\n",
    "            feats = trans.get_feature_names_out(cols if isinstance(cols, list) else None)\n",
    "            output_features.extend(feats)\n",
    "        else:\n",
    "            if isinstance(cols, list): output_features.extend(cols)\n",
    "            else: output_features.append(cols)\n",
    "    return np.array(output_features)\n"
   ]
  },
  {
   "cell_type": "markdown",
   "id": "65d3c069",
   "metadata": {},
   "source": [
    "## 7) XGBoost + búsqueda de hiperparámetros"
   ]
  },
  {
   "cell_type": "code",
   "execution_count": 31,
   "id": "cd615946",
   "metadata": {},
   "outputs": [
    {
     "name": "stdout",
     "output_type": "stream",
     "text": [
      "Fitting 5 folds for each of 20 candidates, totalling 100 fits\n",
      "[CV] END xgb__colsample_bytree=0.85, xgb__gamma=1.0, xgb__learning_rate=0.05, xgb__max_depth=8, xgb__min_child_weight=1, xgb__n_estimators=800, xgb__reg_lambda=2.0, xgb__subsample=0.85; total time=   1.2s\n",
      "[CV] END xgb__colsample_bytree=0.85, xgb__gamma=1.0, xgb__learning_rate=0.05, xgb__max_depth=8, xgb__min_child_weight=1, xgb__n_estimators=800, xgb__reg_lambda=2.0, xgb__subsample=0.85; total time=   1.2s\n",
      "[CV] END xgb__colsample_bytree=0.85, xgb__gamma=1.0, xgb__learning_rate=0.05, xgb__max_depth=8, xgb__min_child_weight=1, xgb__n_estimators=800, xgb__reg_lambda=2.0, xgb__subsample=0.85; total time=   1.2s\n",
      "[CV] END xgb__colsample_bytree=0.85, xgb__gamma=1.0, xgb__learning_rate=0.05, xgb__max_depth=8, xgb__min_child_weight=1, xgb__n_estimators=800, xgb__reg_lambda=2.0, xgb__subsample=0.85; total time=   1.2s\n",
      "[CV] END xgb__colsample_bytree=0.7, xgb__gamma=0, xgb__learning_rate=0.05, xgb__max_depth=8, xgb__min_child_weight=5, xgb__n_estimators=800, xgb__reg_lambda=1.5, xgb__subsample=1.0; total time=   1.0s\n",
      "[CV] END xgb__colsample_bytree=0.7, xgb__gamma=0, xgb__learning_rate=0.05, xgb__max_depth=8, xgb__min_child_weight=5, xgb__n_estimators=800, xgb__reg_lambda=1.5, xgb__subsample=1.0; total time=   1.0s\n",
      "[CV] END xgb__colsample_bytree=0.7, xgb__gamma=0, xgb__learning_rate=0.05, xgb__max_depth=8, xgb__min_child_weight=5, xgb__n_estimators=800, xgb__reg_lambda=1.5, xgb__subsample=1.0; total time=   1.0s\n",
      "[CV] END xgb__colsample_bytree=0.85, xgb__gamma=1.0, xgb__learning_rate=0.05, xgb__max_depth=8, xgb__min_child_weight=1, xgb__n_estimators=800, xgb__reg_lambda=2.0, xgb__subsample=0.85; total time=   1.1s\n",
      "[CV] END xgb__colsample_bytree=0.7, xgb__gamma=0, xgb__learning_rate=0.05, xgb__max_depth=8, xgb__min_child_weight=5, xgb__n_estimators=800, xgb__reg_lambda=1.5, xgb__subsample=1.0; total time=   0.8s\n",
      "[CV] END xgb__colsample_bytree=0.85, xgb__gamma=0.5, xgb__learning_rate=0.02, xgb__max_depth=4, xgb__min_child_weight=5, xgb__n_estimators=600, xgb__reg_lambda=2.0, xgb__subsample=1.0; total time=   0.8s\n",
      "[CV] END xgb__colsample_bytree=0.85, xgb__gamma=0.5, xgb__learning_rate=0.02, xgb__max_depth=4, xgb__min_child_weight=5, xgb__n_estimators=600, xgb__reg_lambda=2.0, xgb__subsample=1.0; total time=   0.8s\n",
      "[CV] END xgb__colsample_bytree=0.7, xgb__gamma=0, xgb__learning_rate=0.05, xgb__max_depth=8, xgb__min_child_weight=5, xgb__n_estimators=800, xgb__reg_lambda=1.5, xgb__subsample=1.0; total time=   0.9s\n",
      "[CV] END xgb__colsample_bytree=0.85, xgb__gamma=0.5, xgb__learning_rate=0.02, xgb__max_depth=3, xgb__min_child_weight=1, xgb__n_estimators=300, xgb__reg_lambda=2.0, xgb__subsample=0.85; total time=   0.6s\n",
      "[CV] END xgb__colsample_bytree=0.85, xgb__gamma=0.5, xgb__learning_rate=0.02, xgb__max_depth=4, xgb__min_child_weight=5, xgb__n_estimators=600, xgb__reg_lambda=2.0, xgb__subsample=1.0; total time=   0.8s\n",
      "[CV] END xgb__colsample_bytree=0.85, xgb__gamma=0.5, xgb__learning_rate=0.02, xgb__max_depth=4, xgb__min_child_weight=5, xgb__n_estimators=600, xgb__reg_lambda=2.0, xgb__subsample=1.0; total time=   0.8s\n",
      "[CV] END xgb__colsample_bytree=0.85, xgb__gamma=0.5, xgb__learning_rate=0.02, xgb__max_depth=4, xgb__min_child_weight=5, xgb__n_estimators=600, xgb__reg_lambda=2.0, xgb__subsample=1.0; total time=   0.9s\n",
      "[CV] END xgb__colsample_bytree=0.85, xgb__gamma=0.5, xgb__learning_rate=0.02, xgb__max_depth=3, xgb__min_child_weight=1, xgb__n_estimators=300, xgb__reg_lambda=2.0, xgb__subsample=0.85; total time=   0.8s\n",
      "[CV] END xgb__colsample_bytree=0.85, xgb__gamma=0.5, xgb__learning_rate=0.02, xgb__max_depth=3, xgb__min_child_weight=1, xgb__n_estimators=300, xgb__reg_lambda=2.0, xgb__subsample=0.85; total time=   1.1s\n",
      "[CV] END xgb__colsample_bytree=0.85, xgb__gamma=0.5, xgb__learning_rate=0.02, xgb__max_depth=3, xgb__min_child_weight=1, xgb__n_estimators=300, xgb__reg_lambda=2.0, xgb__subsample=0.85; total time=   1.1s\n",
      "[CV] END xgb__colsample_bytree=0.85, xgb__gamma=0.5, xgb__learning_rate=0.02, xgb__max_depth=3, xgb__min_child_weight=1, xgb__n_estimators=300, xgb__reg_lambda=2.0, xgb__subsample=0.85; total time=   1.1s\n",
      "[CV] END xgb__colsample_bytree=1.0, xgb__gamma=1.0, xgb__learning_rate=0.1, xgb__max_depth=3, xgb__min_child_weight=3, xgb__n_estimators=400, xgb__reg_lambda=2.0, xgb__subsample=0.85; total time=   0.8s\n",
      "[CV] END xgb__colsample_bytree=1.0, xgb__gamma=1.0, xgb__learning_rate=0.1, xgb__max_depth=3, xgb__min_child_weight=3, xgb__n_estimators=400, xgb__reg_lambda=2.0, xgb__subsample=0.85; total time=   0.5s\n",
      "[CV] END xgb__colsample_bytree=1.0, xgb__gamma=1.0, xgb__learning_rate=0.1, xgb__max_depth=3, xgb__min_child_weight=3, xgb__n_estimators=400, xgb__reg_lambda=2.0, xgb__subsample=0.85; total time=   0.5s\n",
      "[CV] END xgb__colsample_bytree=1.0, xgb__gamma=1.0, xgb__learning_rate=0.1, xgb__max_depth=3, xgb__min_child_weight=3, xgb__n_estimators=400, xgb__reg_lambda=2.0, xgb__subsample=0.85; total time=   0.5s\n",
      "[CV] END xgb__colsample_bytree=1.0, xgb__gamma=1.0, xgb__learning_rate=0.1, xgb__max_depth=3, xgb__min_child_weight=3, xgb__n_estimators=400, xgb__reg_lambda=2.0, xgb__subsample=0.85; total time=   0.4s\n",
      "[CV] END xgb__colsample_bytree=0.85, xgb__gamma=0.5, xgb__learning_rate=0.05, xgb__max_depth=4, xgb__min_child_weight=1, xgb__n_estimators=400, xgb__reg_lambda=1.0, xgb__subsample=0.85; total time=   1.5s\n",
      "[CV] END xgb__colsample_bytree=0.85, xgb__gamma=0.5, xgb__learning_rate=0.05, xgb__max_depth=4, xgb__min_child_weight=1, xgb__n_estimators=400, xgb__reg_lambda=1.0, xgb__subsample=0.85; total time=   1.8s\n",
      "[CV] END xgb__colsample_bytree=0.85, xgb__gamma=0.5, xgb__learning_rate=0.05, xgb__max_depth=4, xgb__min_child_weight=1, xgb__n_estimators=400, xgb__reg_lambda=1.0, xgb__subsample=0.85; total time=   2.0s\n",
      "[CV] END xgb__colsample_bytree=0.85, xgb__gamma=0.5, xgb__learning_rate=0.05, xgb__max_depth=4, xgb__min_child_weight=1, xgb__n_estimators=400, xgb__reg_lambda=1.0, xgb__subsample=0.85; total time=   2.5s\n",
      "[CV] END xgb__colsample_bytree=0.85, xgb__gamma=0.5, xgb__learning_rate=0.1, xgb__max_depth=6, xgb__min_child_weight=1, xgb__n_estimators=300, xgb__reg_lambda=1.0, xgb__subsample=0.85; total time=   1.9s\n",
      "[CV] END xgb__colsample_bytree=0.85, xgb__gamma=0.5, xgb__learning_rate=0.1, xgb__max_depth=6, xgb__min_child_weight=1, xgb__n_estimators=300, xgb__reg_lambda=1.0, xgb__subsample=0.85; total time=   1.8s\n",
      "[CV] END xgb__colsample_bytree=0.85, xgb__gamma=0.5, xgb__learning_rate=0.05, xgb__max_depth=4, xgb__min_child_weight=1, xgb__n_estimators=400, xgb__reg_lambda=1.0, xgb__subsample=0.85; total time=   2.2s\n",
      "[CV] END xgb__colsample_bytree=0.85, xgb__gamma=0.5, xgb__learning_rate=0.1, xgb__max_depth=6, xgb__min_child_weight=1, xgb__n_estimators=300, xgb__reg_lambda=1.0, xgb__subsample=0.85; total time=   1.8s\n",
      "[CV] END xgb__colsample_bytree=0.85, xgb__gamma=0.5, xgb__learning_rate=0.1, xgb__max_depth=6, xgb__min_child_weight=1, xgb__n_estimators=300, xgb__reg_lambda=1.0, xgb__subsample=0.85; total time=   1.5s\n",
      "[CV] END xgb__colsample_bytree=0.85, xgb__gamma=0.5, xgb__learning_rate=0.1, xgb__max_depth=6, xgb__min_child_weight=1, xgb__n_estimators=300, xgb__reg_lambda=1.0, xgb__subsample=0.85; total time=   1.6s\n",
      "[CV] END xgb__colsample_bytree=0.7, xgb__gamma=0, xgb__learning_rate=0.05, xgb__max_depth=3, xgb__min_child_weight=1, xgb__n_estimators=800, xgb__reg_lambda=2.0, xgb__subsample=0.85; total time=   2.4s\n",
      "[CV] END xgb__colsample_bytree=0.7, xgb__gamma=0, xgb__learning_rate=0.05, xgb__max_depth=3, xgb__min_child_weight=1, xgb__n_estimators=800, xgb__reg_lambda=2.0, xgb__subsample=0.85; total time=   1.9s\n",
      "[CV] END xgb__colsample_bytree=0.7, xgb__gamma=0, xgb__learning_rate=0.05, xgb__max_depth=3, xgb__min_child_weight=1, xgb__n_estimators=800, xgb__reg_lambda=2.0, xgb__subsample=0.85; total time=   1.4s\n",
      "[CV] END xgb__colsample_bytree=0.7, xgb__gamma=0, xgb__learning_rate=0.05, xgb__max_depth=3, xgb__min_child_weight=1, xgb__n_estimators=800, xgb__reg_lambda=2.0, xgb__subsample=0.85; total time=   1.3s\n",
      "[CV] END xgb__colsample_bytree=0.7, xgb__gamma=0, xgb__learning_rate=0.05, xgb__max_depth=3, xgb__min_child_weight=1, xgb__n_estimators=800, xgb__reg_lambda=2.0, xgb__subsample=0.85; total time=   0.8s\n",
      "[CV] END xgb__colsample_bytree=0.85, xgb__gamma=0, xgb__learning_rate=0.05, xgb__max_depth=3, xgb__min_child_weight=5, xgb__n_estimators=800, xgb__reg_lambda=2.0, xgb__subsample=0.85; total time=   0.8s\n",
      "[CV] END xgb__colsample_bytree=0.85, xgb__gamma=0, xgb__learning_rate=0.05, xgb__max_depth=3, xgb__min_child_weight=5, xgb__n_estimators=800, xgb__reg_lambda=2.0, xgb__subsample=0.85; total time=   0.8s\n",
      "[CV] END xgb__colsample_bytree=0.85, xgb__gamma=0, xgb__learning_rate=0.05, xgb__max_depth=3, xgb__min_child_weight=5, xgb__n_estimators=800, xgb__reg_lambda=2.0, xgb__subsample=0.85; total time=   0.8s\n",
      "[CV] END xgb__colsample_bytree=0.85, xgb__gamma=0, xgb__learning_rate=0.05, xgb__max_depth=3, xgb__min_child_weight=5, xgb__n_estimators=800, xgb__reg_lambda=2.0, xgb__subsample=0.85; total time=   0.8s\n",
      "[CV] END xgb__colsample_bytree=0.85, xgb__gamma=0, xgb__learning_rate=0.05, xgb__max_depth=3, xgb__min_child_weight=5, xgb__n_estimators=800, xgb__reg_lambda=2.0, xgb__subsample=0.85; total time=   0.8s\n",
      "[CV] END xgb__colsample_bytree=0.85, xgb__gamma=0.5, xgb__learning_rate=0.02, xgb__max_depth=8, xgb__min_child_weight=3, xgb__n_estimators=800, xgb__reg_lambda=2.0, xgb__subsample=0.85; total time=   0.9s\n",
      "[CV] END xgb__colsample_bytree=0.85, xgb__gamma=0.5, xgb__learning_rate=0.02, xgb__max_depth=8, xgb__min_child_weight=3, xgb__n_estimators=800, xgb__reg_lambda=2.0, xgb__subsample=0.85; total time=   0.9s\n",
      "[CV] END xgb__colsample_bytree=1.0, xgb__gamma=1.0, xgb__learning_rate=0.1, xgb__max_depth=8, xgb__min_child_weight=5, xgb__n_estimators=300, xgb__reg_lambda=2.0, xgb__subsample=1.0; total time=   0.3s\n",
      "[CV] END xgb__colsample_bytree=0.85, xgb__gamma=0.5, xgb__learning_rate=0.02, xgb__max_depth=8, xgb__min_child_weight=3, xgb__n_estimators=800, xgb__reg_lambda=2.0, xgb__subsample=0.85; total time=   0.9s\n",
      "[CV] END xgb__colsample_bytree=1.0, xgb__gamma=1.0, xgb__learning_rate=0.1, xgb__max_depth=8, xgb__min_child_weight=5, xgb__n_estimators=300, xgb__reg_lambda=2.0, xgb__subsample=1.0; total time=   0.3s\n",
      "[CV] END xgb__colsample_bytree=0.85, xgb__gamma=0.5, xgb__learning_rate=0.02, xgb__max_depth=8, xgb__min_child_weight=3, xgb__n_estimators=800, xgb__reg_lambda=2.0, xgb__subsample=0.85; total time=   0.9s\n",
      "[CV] END xgb__colsample_bytree=1.0, xgb__gamma=1.0, xgb__learning_rate=0.1, xgb__max_depth=8, xgb__min_child_weight=5, xgb__n_estimators=300, xgb__reg_lambda=2.0, xgb__subsample=1.0; total time=   0.3s\n",
      "[CV] END xgb__colsample_bytree=0.85, xgb__gamma=0.5, xgb__learning_rate=0.02, xgb__max_depth=8, xgb__min_child_weight=3, xgb__n_estimators=800, xgb__reg_lambda=2.0, xgb__subsample=0.85; total time=   1.0s\n",
      "[CV] END xgb__colsample_bytree=1.0, xgb__gamma=1.0, xgb__learning_rate=0.1, xgb__max_depth=8, xgb__min_child_weight=5, xgb__n_estimators=300, xgb__reg_lambda=2.0, xgb__subsample=1.0; total time=   0.3s\n",
      "[CV] END xgb__colsample_bytree=1.0, xgb__gamma=1.0, xgb__learning_rate=0.1, xgb__max_depth=8, xgb__min_child_weight=5, xgb__n_estimators=300, xgb__reg_lambda=2.0, xgb__subsample=1.0; total time=   0.3s\n",
      "[CV] END xgb__colsample_bytree=1.0, xgb__gamma=1.0, xgb__learning_rate=0.1, xgb__max_depth=4, xgb__min_child_weight=1, xgb__n_estimators=600, xgb__reg_lambda=1.5, xgb__subsample=1.0; total time=   0.6s\n",
      "[CV] END xgb__colsample_bytree=1.0, xgb__gamma=1.0, xgb__learning_rate=0.1, xgb__max_depth=4, xgb__min_child_weight=1, xgb__n_estimators=600, xgb__reg_lambda=1.5, xgb__subsample=1.0; total time=   0.6s\n",
      "[CV] END xgb__colsample_bytree=1.0, xgb__gamma=1.0, xgb__learning_rate=0.1, xgb__max_depth=4, xgb__min_child_weight=1, xgb__n_estimators=600, xgb__reg_lambda=1.5, xgb__subsample=1.0; total time=   0.6s\n",
      "[CV] END xgb__colsample_bytree=1.0, xgb__gamma=1.0, xgb__learning_rate=0.1, xgb__max_depth=4, xgb__min_child_weight=1, xgb__n_estimators=600, xgb__reg_lambda=1.5, xgb__subsample=1.0; total time=   0.6s\n",
      "[CV] END xgb__colsample_bytree=1.0, xgb__gamma=1.0, xgb__learning_rate=0.1, xgb__max_depth=4, xgb__min_child_weight=1, xgb__n_estimators=600, xgb__reg_lambda=1.5, xgb__subsample=1.0; total time=   1.0s\n",
      "[CV] END xgb__colsample_bytree=1.0, xgb__gamma=1.0, xgb__learning_rate=0.05, xgb__max_depth=6, xgb__min_child_weight=5, xgb__n_estimators=600, xgb__reg_lambda=1.5, xgb__subsample=1.0; total time=   1.2s\n",
      "[CV] END xgb__colsample_bytree=1.0, xgb__gamma=1.0, xgb__learning_rate=0.05, xgb__max_depth=6, xgb__min_child_weight=5, xgb__n_estimators=600, xgb__reg_lambda=1.5, xgb__subsample=1.0; total time=   1.2s\n",
      "[CV] END xgb__colsample_bytree=1.0, xgb__gamma=1.0, xgb__learning_rate=0.05, xgb__max_depth=6, xgb__min_child_weight=5, xgb__n_estimators=600, xgb__reg_lambda=1.5, xgb__subsample=1.0; total time=   1.1s\n",
      "[CV] END xgb__colsample_bytree=1.0, xgb__gamma=1.0, xgb__learning_rate=0.05, xgb__max_depth=6, xgb__min_child_weight=5, xgb__n_estimators=600, xgb__reg_lambda=1.5, xgb__subsample=1.0; total time=   0.6s\n",
      "[CV] END xgb__colsample_bytree=1.0, xgb__gamma=0, xgb__learning_rate=0.05, xgb__max_depth=4, xgb__min_child_weight=1, xgb__n_estimators=300, xgb__reg_lambda=2.0, xgb__subsample=0.7; total time=   0.4s\n",
      "[CV] END xgb__colsample_bytree=1.0, xgb__gamma=0, xgb__learning_rate=0.05, xgb__max_depth=4, xgb__min_child_weight=1, xgb__n_estimators=300, xgb__reg_lambda=2.0, xgb__subsample=0.7; total time=   0.4s\n",
      "[CV] END xgb__colsample_bytree=1.0, xgb__gamma=1.0, xgb__learning_rate=0.05, xgb__max_depth=6, xgb__min_child_weight=5, xgb__n_estimators=600, xgb__reg_lambda=1.5, xgb__subsample=1.0; total time=   0.5s\n",
      "[CV] END xgb__colsample_bytree=1.0, xgb__gamma=0, xgb__learning_rate=0.05, xgb__max_depth=4, xgb__min_child_weight=1, xgb__n_estimators=300, xgb__reg_lambda=2.0, xgb__subsample=0.7; total time=   0.3s\n",
      "[CV] END xgb__colsample_bytree=1.0, xgb__gamma=0, xgb__learning_rate=0.05, xgb__max_depth=4, xgb__min_child_weight=1, xgb__n_estimators=300, xgb__reg_lambda=2.0, xgb__subsample=0.7; total time=   0.4s\n",
      "[CV] END xgb__colsample_bytree=1.0, xgb__gamma=0, xgb__learning_rate=0.05, xgb__max_depth=4, xgb__min_child_weight=1, xgb__n_estimators=300, xgb__reg_lambda=2.0, xgb__subsample=0.7; total time=   0.7s\n",
      "[CV] END xgb__colsample_bytree=0.7, xgb__gamma=0.5, xgb__learning_rate=0.02, xgb__max_depth=8, xgb__min_child_weight=3, xgb__n_estimators=800, xgb__reg_lambda=1.0, xgb__subsample=1.0; total time=   2.0s\n",
      "[CV] END xgb__colsample_bytree=0.7, xgb__gamma=0.5, xgb__learning_rate=0.02, xgb__max_depth=8, xgb__min_child_weight=3, xgb__n_estimators=800, xgb__reg_lambda=1.0, xgb__subsample=1.0; total time=   2.5s\n",
      "[CV] END xgb__colsample_bytree=0.7, xgb__gamma=0.5, xgb__learning_rate=0.02, xgb__max_depth=8, xgb__min_child_weight=3, xgb__n_estimators=800, xgb__reg_lambda=1.0, xgb__subsample=1.0; total time=   2.4s\n",
      "[CV] END xgb__colsample_bytree=0.7, xgb__gamma=0.5, xgb__learning_rate=0.02, xgb__max_depth=8, xgb__min_child_weight=3, xgb__n_estimators=800, xgb__reg_lambda=1.0, xgb__subsample=1.0; total time=   2.3s\n",
      "[CV] END xgb__colsample_bytree=0.7, xgb__gamma=0, xgb__learning_rate=0.05, xgb__max_depth=8, xgb__min_child_weight=1, xgb__n_estimators=400, xgb__reg_lambda=1.5, xgb__subsample=0.85; total time=   1.4s\n",
      "[CV] END xgb__colsample_bytree=0.7, xgb__gamma=0, xgb__learning_rate=0.05, xgb__max_depth=8, xgb__min_child_weight=1, xgb__n_estimators=400, xgb__reg_lambda=1.5, xgb__subsample=0.85; total time=   1.4s\n",
      "[CV] END xgb__colsample_bytree=0.7, xgb__gamma=0, xgb__learning_rate=0.05, xgb__max_depth=8, xgb__min_child_weight=1, xgb__n_estimators=400, xgb__reg_lambda=1.5, xgb__subsample=0.85; total time=   1.4s\n",
      "[CV] END xgb__colsample_bytree=0.7, xgb__gamma=0.5, xgb__learning_rate=0.02, xgb__max_depth=8, xgb__min_child_weight=3, xgb__n_estimators=800, xgb__reg_lambda=1.0, xgb__subsample=1.0; total time=   2.4s\n",
      "[CV] END xgb__colsample_bytree=0.7, xgb__gamma=0, xgb__learning_rate=0.05, xgb__max_depth=8, xgb__min_child_weight=1, xgb__n_estimators=400, xgb__reg_lambda=1.5, xgb__subsample=0.85; total time=   1.3s\n",
      "[CV] END xgb__colsample_bytree=0.7, xgb__gamma=0, xgb__learning_rate=0.05, xgb__max_depth=8, xgb__min_child_weight=1, xgb__n_estimators=400, xgb__reg_lambda=1.5, xgb__subsample=0.85; total time=   1.2s\n",
      "[CV] END xgb__colsample_bytree=1.0, xgb__gamma=1.0, xgb__learning_rate=0.02, xgb__max_depth=4, xgb__min_child_weight=5, xgb__n_estimators=800, xgb__reg_lambda=2.0, xgb__subsample=1.0; total time=   1.4s\n",
      "[CV] END xgb__colsample_bytree=1.0, xgb__gamma=1.0, xgb__learning_rate=0.02, xgb__max_depth=4, xgb__min_child_weight=5, xgb__n_estimators=800, xgb__reg_lambda=2.0, xgb__subsample=1.0; total time=   1.6s\n",
      "[CV] END xgb__colsample_bytree=1.0, xgb__gamma=1.0, xgb__learning_rate=0.02, xgb__max_depth=4, xgb__min_child_weight=5, xgb__n_estimators=800, xgb__reg_lambda=2.0, xgb__subsample=1.0; total time=   1.3s\n",
      "[CV] END xgb__colsample_bytree=1.0, xgb__gamma=1.0, xgb__learning_rate=0.02, xgb__max_depth=4, xgb__min_child_weight=5, xgb__n_estimators=800, xgb__reg_lambda=2.0, xgb__subsample=1.0; total time=   1.4s\n",
      "[CV] END xgb__colsample_bytree=0.85, xgb__gamma=1.0, xgb__learning_rate=0.05, xgb__max_depth=3, xgb__min_child_weight=3, xgb__n_estimators=300, xgb__reg_lambda=1.0, xgb__subsample=0.85; total time=   0.9s\n",
      "[CV] END xgb__colsample_bytree=1.0, xgb__gamma=1.0, xgb__learning_rate=0.02, xgb__max_depth=4, xgb__min_child_weight=5, xgb__n_estimators=800, xgb__reg_lambda=2.0, xgb__subsample=1.0; total time=   1.5s\n",
      "[CV] END xgb__colsample_bytree=0.85, xgb__gamma=1.0, xgb__learning_rate=0.05, xgb__max_depth=3, xgb__min_child_weight=3, xgb__n_estimators=300, xgb__reg_lambda=1.0, xgb__subsample=0.85; total time=   1.0s\n",
      "[CV] END xgb__colsample_bytree=0.85, xgb__gamma=1.0, xgb__learning_rate=0.05, xgb__max_depth=3, xgb__min_child_weight=3, xgb__n_estimators=300, xgb__reg_lambda=1.0, xgb__subsample=0.85; total time=   0.9s\n",
      "[CV] END xgb__colsample_bytree=0.85, xgb__gamma=1.0, xgb__learning_rate=0.05, xgb__max_depth=3, xgb__min_child_weight=3, xgb__n_estimators=300, xgb__reg_lambda=1.0, xgb__subsample=0.85; total time=   0.9s\n",
      "[CV] END xgb__colsample_bytree=0.85, xgb__gamma=1.0, xgb__learning_rate=0.05, xgb__max_depth=3, xgb__min_child_weight=3, xgb__n_estimators=300, xgb__reg_lambda=1.0, xgb__subsample=0.85; total time=   1.1s\n",
      "[CV] END xgb__colsample_bytree=0.7, xgb__gamma=0.5, xgb__learning_rate=0.1, xgb__max_depth=6, xgb__min_child_weight=3, xgb__n_estimators=600, xgb__reg_lambda=1.5, xgb__subsample=0.7; total time=   1.6s\n",
      "[CV] END xgb__colsample_bytree=0.7, xgb__gamma=0.5, xgb__learning_rate=0.1, xgb__max_depth=6, xgb__min_child_weight=3, xgb__n_estimators=600, xgb__reg_lambda=1.5, xgb__subsample=0.7; total time=   1.6s\n",
      "[CV] END xgb__colsample_bytree=0.7, xgb__gamma=0.5, xgb__learning_rate=0.1, xgb__max_depth=6, xgb__min_child_weight=3, xgb__n_estimators=600, xgb__reg_lambda=1.5, xgb__subsample=0.7; total time=   1.6s\n",
      "[CV] END xgb__colsample_bytree=0.7, xgb__gamma=0.5, xgb__learning_rate=0.1, xgb__max_depth=6, xgb__min_child_weight=3, xgb__n_estimators=600, xgb__reg_lambda=1.5, xgb__subsample=0.7; total time=   1.6s\n",
      "[CV] END xgb__colsample_bytree=0.7, xgb__gamma=0.5, xgb__learning_rate=0.1, xgb__max_depth=6, xgb__min_child_weight=3, xgb__n_estimators=600, xgb__reg_lambda=1.5, xgb__subsample=0.7; total time=   1.2s\n",
      "[CV] END xgb__colsample_bytree=0.85, xgb__gamma=0.5, xgb__learning_rate=0.02, xgb__max_depth=4, xgb__min_child_weight=1, xgb__n_estimators=600, xgb__reg_lambda=1.0, xgb__subsample=0.85; total time=   1.7s\n",
      "[CV] END xgb__colsample_bytree=0.85, xgb__gamma=0.5, xgb__learning_rate=0.02, xgb__max_depth=4, xgb__min_child_weight=1, xgb__n_estimators=600, xgb__reg_lambda=1.0, xgb__subsample=0.85; total time=   1.8s\n",
      "[CV] END xgb__colsample_bytree=0.85, xgb__gamma=0.5, xgb__learning_rate=0.02, xgb__max_depth=4, xgb__min_child_weight=1, xgb__n_estimators=600, xgb__reg_lambda=1.0, xgb__subsample=0.85; total time=   1.6s\n",
      "[CV] END xgb__colsample_bytree=0.85, xgb__gamma=0.5, xgb__learning_rate=0.02, xgb__max_depth=4, xgb__min_child_weight=1, xgb__n_estimators=600, xgb__reg_lambda=1.0, xgb__subsample=0.85; total time=   1.4s\n",
      "[CV] END xgb__colsample_bytree=0.85, xgb__gamma=0.5, xgb__learning_rate=0.02, xgb__max_depth=4, xgb__min_child_weight=1, xgb__n_estimators=600, xgb__reg_lambda=1.0, xgb__subsample=0.85; total time=   1.1s\n",
      "Mejores hiperparámetros: {'xgb__subsample': 0.85, 'xgb__reg_lambda': 2.0, 'xgb__n_estimators': 800, 'xgb__min_child_weight': 1, 'xgb__max_depth': 8, 'xgb__learning_rate': 0.05, 'xgb__gamma': 1.0, 'xgb__colsample_bytree': 0.85}\n",
      "Mejor score medio (CV): 1.0\n"
     ]
    }
   ],
   "source": [
    "best_xgb = None\n",
    "cv_results_ = None\n",
    "    \n",
    "# scale_pos_weight ≈ Negativos/Positivos (robusto a desbalanceo)\n",
    "pos_label = sorted(y_train.unique())[-1]  # intento: mayor es positiva si son [0,1]\n",
    "n_pos = (y_train == pos_label).sum()\n",
    "n_neg = (y_train != pos_label).sum()\n",
    "scale_pos_weight = max(n_neg / max(n_pos, 1), 1.0)\n",
    "objective = \"binary:logistic\"\n",
    "eval_metric = \"auc\"\n",
    "scoring = \"f1\"\n",
    "\n",
    "    \n",
    "xgb = XGBClassifier(\n",
    "    objective=objective,\n",
    "    eval_metric=eval_metric,\n",
    "    n_estimators=400,\n",
    "    learning_rate=0.05,\n",
    "    tree_method=\"hist\",\n",
    "    subsample=0.9,\n",
    "    colsample_bytree=0.9,\n",
    "    max_depth=6,\n",
    "    min_child_weight=1,\n",
    "    reg_lambda=1.0,\n",
    "    n_jobs=N_JOBS,\n",
    "    random_state=RANDOM_STATE,\n",
    "    scale_pos_weight=scale_pos_weight,\n",
    "    # NOTA: usamos OneHotEncoder, por eso no habilitamos categóricas nativas\n",
    "    enable_categorical=False\n",
    ")\n",
    "    \n",
    "pipe = Pipeline(steps=[(\"pre\", preprocessor), (\"xgb\", xgb)])\n",
    "    \n",
    "param_dist = {\n",
    "    \"xgb__n_estimators\": [300, 400, 600, 800],\n",
    "    \"xgb__max_depth\": [3, 4, 6, 8],\n",
    "    \"xgb__learning_rate\": [0.02, 0.05, 0.1],\n",
    "    \"xgb__subsample\": [0.7, 0.85, 1.0],\n",
    "    \"xgb__colsample_bytree\": [0.7, 0.85, 1.0],\n",
    "    \"xgb__min_child_weight\": [1, 3, 5],\n",
    "    \"xgb__reg_lambda\": [1.0, 1.5, 2.0],\n",
    "    \"xgb__gamma\": [0, 0.5, 1.0],\n",
    "}\n",
    "    \n",
    "cv = StratifiedKFold(n_splits=5, shuffle=True, random_state=RANDOM_STATE)\n",
    "search = RandomizedSearchCV(\n",
    "    pipe, param_dist, n_iter=20, scoring=scoring, cv=cv,\n",
    "    n_jobs=N_JOBS, random_state=RANDOM_STATE, verbose=2, refit=True\n",
    ")\n",
    "search.fit(X_train, y_train)\n",
    "best_xgb = search.best_estimator_\n",
    "cv_results_ = search.cv_results_\n",
    "    \n",
    "print(\"Mejores hiperparámetros:\", search.best_params_)\n",
    "print(\"Mejor score medio (CV):\", search.best_score_)"
   ]
  },
  {
   "cell_type": "markdown",
   "id": "4288c49f",
   "metadata": {},
   "source": [
    "## 8) Evaluación: classification report, matriz de confusión y ROC-AUC"
   ]
  },
  {
   "cell_type": "code",
   "execution_count": 32,
   "id": "d441e8c5",
   "metadata": {},
   "outputs": [
    {
     "name": "stdout",
     "output_type": "stream",
     "text": [
      "\n",
      "Classification report:\n",
      "\n",
      "              precision    recall  f1-score   support\n",
      "\n",
      "           0     1.0000    1.0000    1.0000       480\n",
      "           1     1.0000    1.0000    1.0000       240\n",
      "\n",
      "    accuracy                         1.0000       720\n",
      "   macro avg     1.0000    1.0000    1.0000       720\n",
      "weighted avg     1.0000    1.0000    1.0000       720\n",
      "\n",
      "Matriz de confusión:\n",
      " [[480   0]\n",
      " [  0 240]]\n",
      "ROC-AUC: 1.0000\n"
     ]
    },
    {
     "data": {
      "image/png": "[encoded data removed]",
      "text/plain": [
       "<Figure size 640x480 with 1 Axes>"
      ]
     },
     "metadata": {},
     "output_type": "display_data"
    },
    {
     "data": {
      "image/png": "[encoded data removed]",
      "text/plain": [
       "<Figure size 640x480 with 1 Axes>"
      ]
     },
     "metadata": {},
     "output_type": "display_data"
    }
   ],
   "source": [
    "y_pred = best_xgb.predict(X_test)\n",
    "y_proba = best_xgb.predict_proba(X_test)[:, 1]\n",
    "\n",
    "print(\"\\nClassification report:\\n\")\n",
    "print(classification_report(y_test, y_pred, digits=4))\n",
    "\n",
    "cm = confusion_matrix(y_test, y_pred)\n",
    "print(\"Matriz de confusión:\\n\", cm)\n",
    "\n",
    "try:\n",
    "    auc = roc_auc_score(y_test, y_proba)\n",
    "    print(f\"ROC-AUC: {auc:.4f}\")\n",
    "except Exception as e:\n",
    "    print(\"No se pudo calcular ROC-AUC:\", e)\n",
    "\n",
    "# Plot matriz de confusión\n",
    "fig, ax = plt.subplots()\n",
    "im = ax.imshow(cm)\n",
    "ax.set_title('Matriz de confusión')\n",
    "ax.set_xlabel('Predicción')\n",
    "ax.set_ylabel('Real')\n",
    "ax.set_xticks([0,1]); ax.set_yticks([0,1])\n",
    "ax.set_xticklabels(['Normal (0)', 'Ataque (1)'])\n",
    "ax.set_yticklabels(['Normal (0)', 'Ataque (1)'])\n",
    "for (i, j), val in np.ndenumerate(cm):\n",
    "    ax.text(j, i, int(val), ha='center', va='center')\n",
    "plt.show()\n",
    "\n",
    "# Plot curva ROC\n",
    "try:\n",
    "    RocCurveDisplay.from_estimator(best_xgb, X_test, y_test)\n",
    "    plt.title('Curva ROC')\n",
    "    plt.show()\n",
    "except Exception as e:\n",
    "    print(\"No se pudo trazar la curva ROC:\", e)"
   ]
  },
  {
   "cell_type": "markdown",
   "id": "c670cb2d",
   "metadata": {},
   "source": [
    "Guardamos el pipeline entrenado"
   ]
  },
  {
   "cell_type": "code",
   "execution_count": 33,
   "id": "b3c10dc5",
   "metadata": {},
   "outputs": [
    {
     "name": "stdout",
     "output_type": "stream",
     "text": [
      "Modelo guardado en: xgboost_api_attack_detector_tuned.joblib\n"
     ]
    }
   ],
   "source": [
    "MODEL_PATH = 'xgboost_api_attack_detector_tuned.joblib'\n",
    "dump(best_xgb, MODEL_PATH)\n",
    "print(f'Modelo guardado en: {MODEL_PATH}')"
   ]
  }
 ],
 "metadata": {
  "kernelspec": {
   "display_name": "ml",
   "language": "python",
   "name": "python3"
  },
  "language_info": {
   "codemirror_mode": {
    "name": "ipython",
    "version": 3
   },
   "file_extension": ".py",
   "mimetype": "text/x-python",
   "name": "python",
   "nbconvert_exporter": "python",
   "pygments_lexer": "ipython3",
   "version": "3.13.7"
  }
 },
 "nbformat": 4,
 "nbformat_minor": 5
}
